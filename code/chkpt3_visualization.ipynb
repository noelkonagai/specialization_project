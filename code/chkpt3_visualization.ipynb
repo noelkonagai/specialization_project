{
 "cells": [
  {
   "cell_type": "markdown",
   "metadata": {},
   "source": [
    "# Visualizations and stats by group type\n",
    "- 1: Government teachers' groups\n",
    "- 2: Meghshala groups\n",
    "- 3: 321 groups"
   ]
  },
  {
   "cell_type": "code",
   "execution_count": 6,
   "metadata": {},
   "outputs": [],
   "source": [
    "import pandas as pd\n",
    "import numpy as np\n",
    "import matplotlib.pyplot as plt\n",
    "%matplotlib inline"
   ]
  },
  {
   "cell_type": "code",
   "execution_count": 7,
   "metadata": {},
   "outputs": [],
   "source": [
    "df = pd.read_csv(\"../data/chkpt3/master.csv\", index_col = 0)"
   ]
  },
  {
   "cell_type": "code",
   "execution_count": 8,
   "metadata": {},
   "outputs": [],
   "source": [
    "df_gov = df[df.group_type == 1]\n",
    "df_meg = df[df.group_type == 2]\n",
    "df_tto = df[df.group_type == 3]"
   ]
  },
  {
   "cell_type": "markdown",
   "metadata": {},
   "source": [
    "# Message character length distributions"
   ]
  },
  {
   "cell_type": "code",
   "execution_count": 9,
   "metadata": {},
   "outputs": [],
   "source": [
    "def filter_messages(df):\n",
    "\n",
    "    df = df[df.translated_message.isna() == False] #Filters NaN\n",
    "    df = df[df.translated_message != \"This message was deleted\"] #Filters deleted messages\n",
    "    df = df[df.translated_message != \"You deleted this message\"] #Filters deleted messages\n",
    "    \n",
    "    return df"
   ]
  },
  {
   "cell_type": "markdown",
   "metadata": {},
   "source": [
    "### The most frequent messages"
   ]
  },
  {
   "cell_type": "code",
   "execution_count": 10,
   "metadata": {},
   "outputs": [
    {
     "name": "stdout",
     "output_type": "stream",
     "text": [
      "Most frequent messages for gov: \n",
      " Lighten up              22\n",
      "Thanks sir              17\n",
      "Thanks tr               17\n",
      "Thanks                  16\n",
      "Congratulations sir     16\n",
      "RIP                     15\n",
      "✌️                      15\n",
      "Congratulations sir     12\n",
      "Dear,                   11\n",
      "Congratulations         11\n",
      "Thank you sir           10\n",
      "Very nice                9\n",
      "Khps benakanahalli       8\n",
      "Good morning             8\n",
      "Nice                     8\n",
      "Name: translated_message, dtype: int64\n",
      "\n",
      "\n",
      "Most frequent messages for meg: \n",
      " Waiting for this message                                                                          58\n",
      "                                                                                                  14\n",
      "Thank you                                                                                         10\n",
      "Yes                                                                                               10\n",
      "Thanks mam                                                                                         9\n",
      "Thank you sir                                                                                      8\n",
      "KHPS Gajapati                                                                                      7\n",
      "I have                                                                                             7\n",
      "ಮೂರು Three Things to Respect                                                                       6\n",
      "Article by Meghshala founder, Mrs Jyoti.                                                           6\n",
      "Good morning                                                                                       6\n",
      "https://www.deccanherald.com/supplements/dh-education/silver-lining-clouds-schools-691202.html     6\n",
      "Thank you so much                                                                                  5\n",
      "nice                                                                                               5\n",
      "Thank you madam                                                                                    5\n",
      "Name: translated_message, dtype: int64\n",
      "\n",
      "\n",
      "Most frequent messages for tto: \n",
      " 🤩               58\n",
      "D               53\n",
      "C               43\n",
      "⭐               31\n",
      "A               28\n",
      "B               25\n",
      "Ok              23\n",
      "Hi              20\n",
      "Option D        16\n",
      "Special call    16\n",
      "Hi teachers,    15\n",
      "Option c        15\n",
      "Hook            15\n",
      "Option d        13\n",
      "Option b        13\n",
      "Name: translated_message, dtype: int64\n",
      "\n",
      "\n"
     ]
    }
   ],
   "source": [
    "msg_gov = filter_messages(df_gov).translated_message\n",
    "msg_meg = filter_messages(df_meg).translated_message\n",
    "msg_tto = filter_messages(df_tto).translated_message\n",
    "\n",
    "print(\"Most frequent messages for gov: \\n\", msg_gov.value_counts()[:15])\n",
    "print(\"\\n\")\n",
    "print(\"Most frequent messages for meg: \\n\", msg_meg.value_counts()[:15])\n",
    "print(\"\\n\")\n",
    "print(\"Most frequent messages for tto: \\n\", msg_tto.value_counts()[:15])\n",
    "print(\"\\n\")"
   ]
  },
  {
   "cell_type": "markdown",
   "metadata": {},
   "source": [
    "### The distribution of messages by number of words"
   ]
  },
  {
   "cell_type": "code",
   "execution_count": 11,
   "metadata": {},
   "outputs": [
    {
     "data": {
      "text/plain": [
       "<matplotlib.axes._subplots.AxesSubplot at 0x110024b10>"
      ]
     },
     "execution_count": 11,
     "metadata": {},
     "output_type": "execute_result"
    },
    {
     "data": {
      "image/png": "[encoded data removed]",
      "text/plain": [
       "<Figure size 432x288 with 1 Axes>"
      ]
     },
     "metadata": {
      "needs_background": "light"
     },
     "output_type": "display_data"
    }
   ],
   "source": [
    "msg_gov.str.len().plot.hist(bins= 100)\n",
    "msg_meg.str.len().plot.hist(bins= 100)\n",
    "msg_tto.str.len().plot.hist(bins= 100)"
   ]
  },
  {
   "cell_type": "code",
   "execution_count": 12,
   "metadata": {},
   "outputs": [
    {
     "name": "stdout",
     "output_type": "stream",
     "text": [
      "The distribution for gov: \n",
      " count    5875.000000\n",
      "mean       79.126979\n",
      "std       131.928982\n",
      "min         1.000000\n",
      "25%        19.000000\n",
      "50%        41.000000\n",
      "75%        92.000000\n",
      "max      2599.000000\n",
      "Name: translated_message, dtype: float64\n",
      "\n",
      "\n",
      "The distribution for meg: \n",
      " count    3600.000000\n",
      "mean       64.158056\n",
      "std       105.819326\n",
      "min         1.000000\n",
      "25%        18.000000\n",
      "50%        37.000000\n",
      "75%        71.000000\n",
      "max      2340.000000\n",
      "Name: translated_message, dtype: float64\n",
      "\n",
      "\n",
      "The distribution for tto: \n",
      " count    3686.000000\n",
      "mean       31.735214\n",
      "std        38.738533\n",
      "min         1.000000\n",
      "25%         9.000000\n",
      "50%        21.000000\n",
      "75%        39.000000\n",
      "max       466.000000\n",
      "Name: translated_message, dtype: float64\n",
      "\n",
      "\n"
     ]
    }
   ],
   "source": [
    "print(\"The distribution for gov: \\n\", msg_gov.str.len().describe())\n",
    "print(\"\\n\")\n",
    "print(\"The distribution for meg: \\n\", msg_meg.str.len().describe())\n",
    "print(\"\\n\")\n",
    "print(\"The distribution for tto: \\n\", msg_tto.str.len().describe())\n",
    "print(\"\\n\")"
   ]
  },
  {
   "cell_type": "markdown",
   "metadata": {},
   "source": [
    "### Transforming them by taking the logarithm"
   ]
  },
  {
   "cell_type": "code",
   "execution_count": 13,
   "metadata": {},
   "outputs": [
    {
     "data": {
      "text/plain": [
       "Text(0.5, 0, 'Log of character length')"
      ]
     },
     "execution_count": 13,
     "metadata": {},
     "output_type": "execute_result"
    },
    {
     "data": {
      "image/png": "[encoded data removed]",
      "text/plain": [
       "<Figure size 1008x504 with 1 Axes>"
      ]
     },
     "metadata": {
      "needs_background": "light"
     },
     "output_type": "display_data"
    }
   ],
   "source": [
    "plt.rcParams[\"figure.figsize\"] = [14, 7]\n",
    "plt.rcParams[\"font.size\"] = 12\n",
    "\n",
    "np.log(msg_gov.str.len()).plot.hist(bins = 50)\n",
    "np.log(msg_meg.str.len()).plot.hist(bins = 50)\n",
    "np.log(msg_tto.str.len()).plot.hist(bins = 50)\n",
    "\n",
    "plt.title(\"Distribution of log of the character length of messages\")\n",
    "plt.legend([\"government\",\"meghshala\", '321'])\n",
    "\n",
    "plt.xlabel(\"Log of character length\")"
   ]
  },
  {
   "cell_type": "code",
   "execution_count": 14,
   "metadata": {},
   "outputs": [],
   "source": [
    "import scipy.stats as stats\n",
    "import researchpy as rp"
   ]
  },
  {
   "cell_type": "code",
   "execution_count": 15,
   "metadata": {},
   "outputs": [
    {
     "name": "stdout",
     "output_type": "stream",
     "text": [
      "\n",
      "\n"
     ]
    },
    {
     "data": {
      "text/html": [
       "<div>\n",
       "<style scoped>\n",
       "    .dataframe tbody tr th:only-of-type {\n",
       "        vertical-align: middle;\n",
       "    }\n",
       "\n",
       "    .dataframe tbody tr th {\n",
       "        vertical-align: top;\n",
       "    }\n",
       "\n",
       "    .dataframe thead th {\n",
       "        text-align: right;\n",
       "    }\n",
       "</style>\n",
       "<table border=\"1\" class=\"dataframe\">\n",
       "  <thead>\n",
       "    <tr style=\"text-align: right;\">\n",
       "      <th></th>\n",
       "      <th>N</th>\n",
       "      <th>Mean</th>\n",
       "      <th>SD</th>\n",
       "      <th>SE</th>\n",
       "      <th>95% Conf.</th>\n",
       "      <th>Interval</th>\n",
       "    </tr>\n",
       "    <tr>\n",
       "      <th>group_type</th>\n",
       "      <th></th>\n",
       "      <th></th>\n",
       "      <th></th>\n",
       "      <th></th>\n",
       "      <th></th>\n",
       "      <th></th>\n",
       "    </tr>\n",
       "  </thead>\n",
       "  <tbody>\n",
       "    <tr>\n",
       "      <th>1</th>\n",
       "      <td>5875</td>\n",
       "      <td>79.126979</td>\n",
       "      <td>131.928982</td>\n",
       "      <td>1.721220</td>\n",
       "      <td>75.753101</td>\n",
       "      <td>82.500856</td>\n",
       "    </tr>\n",
       "    <tr>\n",
       "      <th>2</th>\n",
       "      <td>3600</td>\n",
       "      <td>64.158056</td>\n",
       "      <td>105.819326</td>\n",
       "      <td>1.763655</td>\n",
       "      <td>60.700811</td>\n",
       "      <td>67.615300</td>\n",
       "    </tr>\n",
       "    <tr>\n",
       "      <th>3</th>\n",
       "      <td>3686</td>\n",
       "      <td>31.735214</td>\n",
       "      <td>38.738533</td>\n",
       "      <td>0.638066</td>\n",
       "      <td>30.484436</td>\n",
       "      <td>32.985993</td>\n",
       "    </tr>\n",
       "  </tbody>\n",
       "</table>\n",
       "</div>"
      ],
      "text/plain": [
       "               N       Mean          SD        SE  95% Conf.   Interval\n",
       "group_type                                                             \n",
       "1           5875  79.126979  131.928982  1.721220  75.753101  82.500856\n",
       "2           3600  64.158056  105.819326  1.763655  60.700811  67.615300\n",
       "3           3686  31.735214   38.738533  0.638066  30.484436  32.985993"
      ]
     },
     "execution_count": 15,
     "metadata": {},
     "output_type": "execute_result"
    }
   ],
   "source": [
    "df_f = filter_messages(df)\n",
    "\n",
    "rp.summary_cont(df_f['translated_message'].str.len().groupby(df_f['group_type']))"
   ]
  },
  {
   "cell_type": "code",
   "execution_count": 16,
   "metadata": {},
   "outputs": [
    {
     "data": {
      "text/plain": [
       "KruskalResult(statistic=1048.7752365211702, pvalue=1.8253704305058858e-228)"
      ]
     },
     "execution_count": 16,
     "metadata": {},
     "output_type": "execute_result"
    }
   ],
   "source": [
    "stats.kruskal(np.log(msg_gov.str.len()), \n",
    "              np.log(msg_meg.str.len()),\n",
    "              np.log(msg_tto.str.len()))"
   ]
  },
  {
   "cell_type": "code",
   "execution_count": 17,
   "metadata": {},
   "outputs": [
    {
     "data": {
      "text/plain": [
       "F_onewayResult(statistic=682.9092104790501, pvalue=6.615775582323556e-283)"
      ]
     },
     "execution_count": 17,
     "metadata": {},
     "output_type": "execute_result"
    }
   ],
   "source": [
    "stats.f_oneway(np.log(msg_gov.str.len()), \n",
    "               np.log(msg_meg.str.len()),\n",
    "               np.log(msg_tto.str.len()))"
   ]
  },
  {
   "cell_type": "code",
   "execution_count": 42,
   "metadata": {},
   "outputs": [
    {
     "data": {
      "text/html": [
       "<div>\n",
       "<style scoped>\n",
       "    .dataframe tbody tr th:only-of-type {\n",
       "        vertical-align: middle;\n",
       "    }\n",
       "\n",
       "    .dataframe tbody tr th {\n",
       "        vertical-align: top;\n",
       "    }\n",
       "\n",
       "    .dataframe thead th {\n",
       "        text-align: right;\n",
       "    }\n",
       "</style>\n",
       "<table border=\"1\" class=\"dataframe\">\n",
       "  <thead>\n",
       "    <tr style=\"text-align: right;\">\n",
       "      <th></th>\n",
       "      <th>group_name</th>\n",
       "      <th>group_type</th>\n",
       "      <th>date_time</th>\n",
       "      <th>author</th>\n",
       "      <th>message</th>\n",
       "      <th>emoji</th>\n",
       "      <th>messages_clean</th>\n",
       "      <th>url</th>\n",
       "      <th>has_media</th>\n",
       "      <th>translated_message</th>\n",
       "      <th>language</th>\n",
       "      <th>author_id</th>\n",
       "    </tr>\n",
       "  </thead>\n",
       "  <tbody>\n",
       "    <tr>\n",
       "      <th>0</th>\n",
       "      <td>ekids</td>\n",
       "      <td>3</td>\n",
       "      <td>2018-08-30 04:20:00</td>\n",
       "      <td>Akansha Shukla</td>\n",
       "      <td>Hello teachers!! 😁</td>\n",
       "      <td>['😁']</td>\n",
       "      <td>Hello teachers!!</td>\n",
       "      <td>[]</td>\n",
       "      <td>0</td>\n",
       "      <td>Hello teachers!!</td>\n",
       "      <td>en</td>\n",
       "      <td>242</td>\n",
       "    </tr>\n",
       "    <tr>\n",
       "      <th>1</th>\n",
       "      <td>ekids</td>\n",
       "      <td>3</td>\n",
       "      <td>2018-08-30 04:20:00</td>\n",
       "      <td>Akansha Shukla</td>\n",
       "      <td>&lt;Media omitted&gt;</td>\n",
       "      <td>[]</td>\n",
       "      <td>&lt;Media omitted&gt;</td>\n",
       "      <td>[]</td>\n",
       "      <td>1</td>\n",
       "      <td>NaN</td>\n",
       "      <td>NaN</td>\n",
       "      <td>242</td>\n",
       "    </tr>\n",
       "    <tr>\n",
       "      <th>2</th>\n",
       "      <td>ekids</td>\n",
       "      <td>3</td>\n",
       "      <td>2018-08-30 07:58:00</td>\n",
       "      <td>321_Haseena Parveen-24November_Ekidz</td>\n",
       "      <td>Special call</td>\n",
       "      <td>[]</td>\n",
       "      <td>Special call</td>\n",
       "      <td>[]</td>\n",
       "      <td>0</td>\n",
       "      <td>Special call</td>\n",
       "      <td>en</td>\n",
       "      <td>143</td>\n",
       "    </tr>\n",
       "    <tr>\n",
       "      <th>3</th>\n",
       "      <td>ekids</td>\n",
       "      <td>3</td>\n",
       "      <td>2018-08-30 16:25:00</td>\n",
       "      <td>Akansha Shukla</td>\n",
       "      <td>Thank you so much @919912183172 ma'am for the ...</td>\n",
       "      <td>[]</td>\n",
       "      <td>Thank you so much @919912183172 ma'am for the ...</td>\n",
       "      <td>[]</td>\n",
       "      <td>0</td>\n",
       "      <td>Thank you so much @919912183172 ma'am for the ...</td>\n",
       "      <td>en</td>\n",
       "      <td>242</td>\n",
       "    </tr>\n",
       "    <tr>\n",
       "      <th>4</th>\n",
       "      <td>ekids</td>\n",
       "      <td>3</td>\n",
       "      <td>2018-08-30 16:25:00</td>\n",
       "      <td>Akansha Shukla</td>\n",
       "      <td>👏🏻</td>\n",
       "      <td>['👏🏻']</td>\n",
       "      <td>NaN</td>\n",
       "      <td>[]</td>\n",
       "      <td>0</td>\n",
       "      <td>NaN</td>\n",
       "      <td>NaN</td>\n",
       "      <td>242</td>\n",
       "    </tr>\n",
       "  </tbody>\n",
       "</table>\n",
       "</div>"
      ],
      "text/plain": [
       "  group_name  group_type            date_time  \\\n",
       "0      ekids           3  2018-08-30 04:20:00   \n",
       "1      ekids           3  2018-08-30 04:20:00   \n",
       "2      ekids           3  2018-08-30 07:58:00   \n",
       "3      ekids           3  2018-08-30 16:25:00   \n",
       "4      ekids           3  2018-08-30 16:25:00   \n",
       "\n",
       "                                 author  \\\n",
       "0                        Akansha Shukla   \n",
       "1                        Akansha Shukla   \n",
       "2  321_Haseena Parveen-24November_Ekidz   \n",
       "3                        Akansha Shukla   \n",
       "4                        Akansha Shukla   \n",
       "\n",
       "                                             message   emoji  \\\n",
       "0                                 Hello teachers!! 😁   ['😁']   \n",
       "1                                    <Media omitted>      []   \n",
       "2                                       Special call      []   \n",
       "3  Thank you so much @919912183172 ma'am for the ...      []   \n",
       "4                                                 👏🏻  ['👏🏻']   \n",
       "\n",
       "                                      messages_clean url  has_media  \\\n",
       "0                                  Hello teachers!!   []          0   \n",
       "1                                    <Media omitted>  []          1   \n",
       "2                                       Special call  []          0   \n",
       "3  Thank you so much @919912183172 ma'am for the ...  []          0   \n",
       "4                                                NaN  []          0   \n",
       "\n",
       "                                  translated_message language  author_id  \n",
       "0                                  Hello teachers!!        en        242  \n",
       "1                                                NaN      NaN        242  \n",
       "2                                       Special call       en        143  \n",
       "3  Thank you so much @919912183172 ma'am for the ...       en        242  \n",
       "4                                                NaN      NaN        242  "
      ]
     },
     "execution_count": 42,
     "metadata": {},
     "output_type": "execute_result"
    }
   ],
   "source": [
    "df = pd.read_csv(\"../data/chkpt3/master_dfname.csv\", index_col = 0)\n",
    "df.head(5)"
   ]
  },
  {
   "cell_type": "code",
   "execution_count": 30,
   "metadata": {},
   "outputs": [
    {
     "data": {
      "text/plain": [
       "Index(['index', 'group_type', 'date_time', 'author', 'message', 'emoji',\n",
       "       'messages_clean', 'url', 'has_media', 'translated_message', 'language',\n",
       "       'author_id'],\n",
       "      dtype='object')"
      ]
     },
     "execution_count": 30,
     "metadata": {},
     "output_type": "execute_result"
    }
   ],
   "source": [
    "df.columns"
   ]
  },
  {
   "cell_type": "code",
   "execution_count": 65,
   "metadata": {},
   "outputs": [],
   "source": [
    "lengths = [80, 82, 84, 86, 88, 90]\n",
    "    \n",
    "def import_length_df(length):\n",
    "    return pd.read_csv(str(length) + '.csv', index_col = 0)"
   ]
  },
  {
   "cell_type": "code",
   "execution_count": 97,
   "metadata": {},
   "outputs": [],
   "source": [
    "from sklearn import preprocessing\n",
    "\n",
    "def plot_message_count_distribution(length, bins = 25):\n",
    "    \n",
    "    df = import_length_df(length)\n",
    "\n",
    "    plt.rcParams[\"figure.figsize\"] = [14, 7]\n",
    "    plt.rcParams[\"font.size\"] = 12\n",
    "\n",
    "    df[df.group_type == 1].message_count.plot.hist(bins = bins)\n",
    "    df[df.group_type == 2].message_count.plot.hist(bins = bins)\n",
    "    df[df.group_type == 3].message_count.plot.hist(bins = bins)\n",
    "\n",
    "    plt.title(\"Distribution of message counts in a given conversation across the three groups\")\n",
    "    plt.legend([\"government\",\"meghshala\", '321'])\n",
    "\n",
    "    plt.xlabel(\"Message Count\")"
   ]
  },
  {
   "cell_type": "code",
   "execution_count": 98,
   "metadata": {},
   "outputs": [
    {
     "data": {
      "image/png": "[encoded data removed]",
      "text/plain": [
       "<Figure size 1008x504 with 1 Axes>"
      ]
     },
     "metadata": {
      "needs_background": "light"
     },
     "output_type": "display_data"
    }
   ],
   "source": [
    "plot_message_count_distribution(80, bins = 50)"
   ]
  },
  {
   "cell_type": "code",
   "execution_count": 117,
   "metadata": {},
   "outputs": [],
   "source": [
    "def plot_normalized_message_count_distribution(length, bins = 25):\n",
    "    \n",
    "    df = import_length_df(length)\n",
    "    min_max_scaler = preprocessing.MinMaxScaler()\n",
    "\n",
    "    plt.rcParams[\"figure.figsize\"] = [14, 7]\n",
    "    plt.rcParams[\"font.size\"] = 12\n",
    "    \n",
    "    series_1 = df[df.group_type == 1].message_count.values.reshape(-1, 1)\n",
    "    series_2 = df[df.group_type == 2].message_count.values.reshape(-1, 1)\n",
    "    series_3 = df[df.group_type == 3].message_count.values.reshape(-1, 1)\n",
    "    \n",
    "    series_1 = min_max_scaler.fit_transform(series_1)\n",
    "    series_2 = min_max_scaler.fit_transform(series_2)\n",
    "    series_3 = min_max_scaler.fit_transform(series_3)\n",
    "\n",
    "    plt.hist(series_1, bins = bins)\n",
    "    plt.hist(series_2, bins = bins)\n",
    "    plt.hist(series_3, bins = bins)\n",
    "\n",
    "    plt.title(\"Distribution of message counts in a given conversation across the three groups\")\n",
    "    plt.legend([\"government\",\"meghshala\", '321'])\n",
    "\n",
    "    plt.xlabel(\"Message Count\")"
   ]
  },
  {
   "cell_type": "code",
   "execution_count": 119,
   "metadata": {},
   "outputs": [
    {
     "name": "stderr",
     "output_type": "stream",
     "text": [
      "/Users/noel/anaconda3/envs/spec_project/lib/python3.7/site-packages/ipykernel_launcher.py:17: RuntimeWarning: divide by zero encountered in log\n"
     ]
    },
    {
     "ename": "ValueError",
     "evalue": "supplied range of [-inf, 0.0] is not finite",
     "output_type": "error",
     "traceback": [
      "\u001b[0;31m---------------------------------------------------------------------------\u001b[0m",
      "\u001b[0;31mValueError\u001b[0m                                Traceback (most recent call last)",
      "\u001b[0;32m<ipython-input-119-a12bed9b33d2>\u001b[0m in \u001b[0;36m<module>\u001b[0;34m\u001b[0m\n\u001b[0;32m----> 1\u001b[0;31m \u001b[0mplot_normalized_message_count_distribution\u001b[0m\u001b[0;34m(\u001b[0m\u001b[0;36m80\u001b[0m\u001b[0;34m,\u001b[0m \u001b[0;36m50\u001b[0m\u001b[0;34m)\u001b[0m\u001b[0;34m\u001b[0m\u001b[0;34m\u001b[0m\u001b[0m\n\u001b[0m",
      "\u001b[0;32m<ipython-input-117-df633c36f3ab>\u001b[0m in \u001b[0;36mplot_normalized_message_count_distribution\u001b[0;34m(length, bins)\u001b[0m\n\u001b[1;32m     15\u001b[0m     \u001b[0mseries_3\u001b[0m \u001b[0;34m=\u001b[0m \u001b[0mmin_max_scaler\u001b[0m\u001b[0;34m.\u001b[0m\u001b[0mfit_transform\u001b[0m\u001b[0;34m(\u001b[0m\u001b[0mseries_3\u001b[0m\u001b[0;34m)\u001b[0m\u001b[0;34m\u001b[0m\u001b[0;34m\u001b[0m\u001b[0m\n\u001b[1;32m     16\u001b[0m \u001b[0;34m\u001b[0m\u001b[0m\n\u001b[0;32m---> 17\u001b[0;31m     \u001b[0mplt\u001b[0m\u001b[0;34m.\u001b[0m\u001b[0mhist\u001b[0m\u001b[0;34m(\u001b[0m\u001b[0mnp\u001b[0m\u001b[0;34m.\u001b[0m\u001b[0mlog\u001b[0m\u001b[0;34m(\u001b[0m\u001b[0mseries_1\u001b[0m\u001b[0;34m)\u001b[0m\u001b[0;34m,\u001b[0m \u001b[0mbins\u001b[0m \u001b[0;34m=\u001b[0m \u001b[0mbins\u001b[0m\u001b[0;34m)\u001b[0m\u001b[0;34m\u001b[0m\u001b[0;34m\u001b[0m\u001b[0m\n\u001b[0m\u001b[1;32m     18\u001b[0m     \u001b[0mplt\u001b[0m\u001b[0;34m.\u001b[0m\u001b[0mhist\u001b[0m\u001b[0;34m(\u001b[0m\u001b[0mnp\u001b[0m\u001b[0;34m.\u001b[0m\u001b[0mlog\u001b[0m\u001b[0;34m(\u001b[0m\u001b[0mseries_2\u001b[0m\u001b[0;34m)\u001b[0m\u001b[0;34m,\u001b[0m \u001b[0mbins\u001b[0m \u001b[0;34m=\u001b[0m \u001b[0mbins\u001b[0m\u001b[0;34m)\u001b[0m\u001b[0;34m\u001b[0m\u001b[0;34m\u001b[0m\u001b[0m\n\u001b[1;32m     19\u001b[0m     \u001b[0mplt\u001b[0m\u001b[0;34m.\u001b[0m\u001b[0mhist\u001b[0m\u001b[0;34m(\u001b[0m\u001b[0mnp\u001b[0m\u001b[0;34m.\u001b[0m\u001b[0mlog\u001b[0m\u001b[0;34m(\u001b[0m\u001b[0mseries_3\u001b[0m\u001b[0;34m)\u001b[0m\u001b[0;34m,\u001b[0m \u001b[0mbins\u001b[0m \u001b[0;34m=\u001b[0m \u001b[0mbins\u001b[0m\u001b[0;34m)\u001b[0m\u001b[0;34m\u001b[0m\u001b[0;34m\u001b[0m\u001b[0m\n",
      "\u001b[0;32m~/anaconda3/envs/spec_project/lib/python3.7/site-packages/matplotlib/pyplot.py\u001b[0m in \u001b[0;36mhist\u001b[0;34m(x, bins, range, density, weights, cumulative, bottom, histtype, align, orientation, rwidth, log, color, label, stacked, normed, data, **kwargs)\u001b[0m\n\u001b[1;32m   2640\u001b[0m         \u001b[0malign\u001b[0m\u001b[0;34m=\u001b[0m\u001b[0malign\u001b[0m\u001b[0;34m,\u001b[0m \u001b[0morientation\u001b[0m\u001b[0;34m=\u001b[0m\u001b[0morientation\u001b[0m\u001b[0;34m,\u001b[0m \u001b[0mrwidth\u001b[0m\u001b[0;34m=\u001b[0m\u001b[0mrwidth\u001b[0m\u001b[0;34m,\u001b[0m \u001b[0mlog\u001b[0m\u001b[0;34m=\u001b[0m\u001b[0mlog\u001b[0m\u001b[0;34m,\u001b[0m\u001b[0;34m\u001b[0m\u001b[0;34m\u001b[0m\u001b[0m\n\u001b[1;32m   2641\u001b[0m         \u001b[0mcolor\u001b[0m\u001b[0;34m=\u001b[0m\u001b[0mcolor\u001b[0m\u001b[0;34m,\u001b[0m \u001b[0mlabel\u001b[0m\u001b[0;34m=\u001b[0m\u001b[0mlabel\u001b[0m\u001b[0;34m,\u001b[0m \u001b[0mstacked\u001b[0m\u001b[0;34m=\u001b[0m\u001b[0mstacked\u001b[0m\u001b[0;34m,\u001b[0m \u001b[0mnormed\u001b[0m\u001b[0;34m=\u001b[0m\u001b[0mnormed\u001b[0m\u001b[0;34m,\u001b[0m\u001b[0;34m\u001b[0m\u001b[0;34m\u001b[0m\u001b[0m\n\u001b[0;32m-> 2642\u001b[0;31m         **({\"data\": data} if data is not None else {}), **kwargs)\n\u001b[0m\u001b[1;32m   2643\u001b[0m \u001b[0;34m\u001b[0m\u001b[0m\n\u001b[1;32m   2644\u001b[0m \u001b[0;34m\u001b[0m\u001b[0m\n",
      "\u001b[0;32m~/anaconda3/envs/spec_project/lib/python3.7/site-packages/matplotlib/__init__.py\u001b[0m in \u001b[0;36minner\u001b[0;34m(ax, data, *args, **kwargs)\u001b[0m\n\u001b[1;32m   1599\u001b[0m     \u001b[0;32mdef\u001b[0m \u001b[0minner\u001b[0m\u001b[0;34m(\u001b[0m\u001b[0max\u001b[0m\u001b[0;34m,\u001b[0m \u001b[0;34m*\u001b[0m\u001b[0margs\u001b[0m\u001b[0;34m,\u001b[0m \u001b[0mdata\u001b[0m\u001b[0;34m=\u001b[0m\u001b[0;32mNone\u001b[0m\u001b[0;34m,\u001b[0m \u001b[0;34m**\u001b[0m\u001b[0mkwargs\u001b[0m\u001b[0;34m)\u001b[0m\u001b[0;34m:\u001b[0m\u001b[0;34m\u001b[0m\u001b[0;34m\u001b[0m\u001b[0m\n\u001b[1;32m   1600\u001b[0m         \u001b[0;32mif\u001b[0m \u001b[0mdata\u001b[0m \u001b[0;32mis\u001b[0m \u001b[0;32mNone\u001b[0m\u001b[0;34m:\u001b[0m\u001b[0;34m\u001b[0m\u001b[0;34m\u001b[0m\u001b[0m\n\u001b[0;32m-> 1601\u001b[0;31m             \u001b[0;32mreturn\u001b[0m \u001b[0mfunc\u001b[0m\u001b[0;34m(\u001b[0m\u001b[0max\u001b[0m\u001b[0;34m,\u001b[0m \u001b[0;34m*\u001b[0m\u001b[0mmap\u001b[0m\u001b[0;34m(\u001b[0m\u001b[0msanitize_sequence\u001b[0m\u001b[0;34m,\u001b[0m \u001b[0margs\u001b[0m\u001b[0;34m)\u001b[0m\u001b[0;34m,\u001b[0m \u001b[0;34m**\u001b[0m\u001b[0mkwargs\u001b[0m\u001b[0;34m)\u001b[0m\u001b[0;34m\u001b[0m\u001b[0;34m\u001b[0m\u001b[0m\n\u001b[0m\u001b[1;32m   1602\u001b[0m \u001b[0;34m\u001b[0m\u001b[0m\n\u001b[1;32m   1603\u001b[0m         \u001b[0mbound\u001b[0m \u001b[0;34m=\u001b[0m \u001b[0mnew_sig\u001b[0m\u001b[0;34m.\u001b[0m\u001b[0mbind\u001b[0m\u001b[0;34m(\u001b[0m\u001b[0max\u001b[0m\u001b[0;34m,\u001b[0m \u001b[0;34m*\u001b[0m\u001b[0margs\u001b[0m\u001b[0;34m,\u001b[0m \u001b[0;34m**\u001b[0m\u001b[0mkwargs\u001b[0m\u001b[0;34m)\u001b[0m\u001b[0;34m\u001b[0m\u001b[0;34m\u001b[0m\u001b[0m\n",
      "\u001b[0;32m~/anaconda3/envs/spec_project/lib/python3.7/site-packages/matplotlib/axes/_axes.py\u001b[0m in \u001b[0;36mhist\u001b[0;34m(self, x, bins, range, density, weights, cumulative, bottom, histtype, align, orientation, rwidth, log, color, label, stacked, normed, **kwargs)\u001b[0m\n\u001b[1;32m   6765\u001b[0m             \u001b[0;31m# this will automatically overwrite bins,\u001b[0m\u001b[0;34m\u001b[0m\u001b[0;34m\u001b[0m\u001b[0;34m\u001b[0m\u001b[0m\n\u001b[1;32m   6766\u001b[0m             \u001b[0;31m# so that each histogram uses the same bins\u001b[0m\u001b[0;34m\u001b[0m\u001b[0;34m\u001b[0m\u001b[0;34m\u001b[0m\u001b[0m\n\u001b[0;32m-> 6767\u001b[0;31m             \u001b[0mm\u001b[0m\u001b[0;34m,\u001b[0m \u001b[0mbins\u001b[0m \u001b[0;34m=\u001b[0m \u001b[0mnp\u001b[0m\u001b[0;34m.\u001b[0m\u001b[0mhistogram\u001b[0m\u001b[0;34m(\u001b[0m\u001b[0mx\u001b[0m\u001b[0;34m[\u001b[0m\u001b[0mi\u001b[0m\u001b[0;34m]\u001b[0m\u001b[0;34m,\u001b[0m \u001b[0mbins\u001b[0m\u001b[0;34m,\u001b[0m \u001b[0mweights\u001b[0m\u001b[0;34m=\u001b[0m\u001b[0mw\u001b[0m\u001b[0;34m[\u001b[0m\u001b[0mi\u001b[0m\u001b[0;34m]\u001b[0m\u001b[0;34m,\u001b[0m \u001b[0;34m**\u001b[0m\u001b[0mhist_kwargs\u001b[0m\u001b[0;34m)\u001b[0m\u001b[0;34m\u001b[0m\u001b[0;34m\u001b[0m\u001b[0m\n\u001b[0m\u001b[1;32m   6768\u001b[0m             \u001b[0mm\u001b[0m \u001b[0;34m=\u001b[0m \u001b[0mm\u001b[0m\u001b[0;34m.\u001b[0m\u001b[0mastype\u001b[0m\u001b[0;34m(\u001b[0m\u001b[0mfloat\u001b[0m\u001b[0;34m)\u001b[0m  \u001b[0;31m# causes problems later if it's an int\u001b[0m\u001b[0;34m\u001b[0m\u001b[0;34m\u001b[0m\u001b[0m\n\u001b[1;32m   6769\u001b[0m             \u001b[0;32mif\u001b[0m \u001b[0mmlast\u001b[0m \u001b[0;32mis\u001b[0m \u001b[0;32mNone\u001b[0m\u001b[0;34m:\u001b[0m\u001b[0;34m\u001b[0m\u001b[0;34m\u001b[0m\u001b[0m\n",
      "\u001b[0;32m<__array_function__ internals>\u001b[0m in \u001b[0;36mhistogram\u001b[0;34m(*args, **kwargs)\u001b[0m\n",
      "\u001b[0;32m~/anaconda3/envs/spec_project/lib/python3.7/site-packages/numpy/lib/histograms.py\u001b[0m in \u001b[0;36mhistogram\u001b[0;34m(a, bins, range, normed, weights, density)\u001b[0m\n\u001b[1;32m    783\u001b[0m     \u001b[0ma\u001b[0m\u001b[0;34m,\u001b[0m \u001b[0mweights\u001b[0m \u001b[0;34m=\u001b[0m \u001b[0m_ravel_and_check_weights\u001b[0m\u001b[0;34m(\u001b[0m\u001b[0ma\u001b[0m\u001b[0;34m,\u001b[0m \u001b[0mweights\u001b[0m\u001b[0;34m)\u001b[0m\u001b[0;34m\u001b[0m\u001b[0;34m\u001b[0m\u001b[0m\n\u001b[1;32m    784\u001b[0m \u001b[0;34m\u001b[0m\u001b[0m\n\u001b[0;32m--> 785\u001b[0;31m     \u001b[0mbin_edges\u001b[0m\u001b[0;34m,\u001b[0m \u001b[0muniform_bins\u001b[0m \u001b[0;34m=\u001b[0m \u001b[0m_get_bin_edges\u001b[0m\u001b[0;34m(\u001b[0m\u001b[0ma\u001b[0m\u001b[0;34m,\u001b[0m \u001b[0mbins\u001b[0m\u001b[0;34m,\u001b[0m \u001b[0mrange\u001b[0m\u001b[0;34m,\u001b[0m \u001b[0mweights\u001b[0m\u001b[0;34m)\u001b[0m\u001b[0;34m\u001b[0m\u001b[0;34m\u001b[0m\u001b[0m\n\u001b[0m\u001b[1;32m    786\u001b[0m \u001b[0;34m\u001b[0m\u001b[0m\n\u001b[1;32m    787\u001b[0m     \u001b[0;31m# Histogram is an integer or a float array depending on the weights.\u001b[0m\u001b[0;34m\u001b[0m\u001b[0;34m\u001b[0m\u001b[0;34m\u001b[0m\u001b[0m\n",
      "\u001b[0;32m~/anaconda3/envs/spec_project/lib/python3.7/site-packages/numpy/lib/histograms.py\u001b[0m in \u001b[0;36m_get_bin_edges\u001b[0;34m(a, bins, range, weights)\u001b[0m\n\u001b[1;32m    417\u001b[0m             \u001b[0;32mraise\u001b[0m \u001b[0mValueError\u001b[0m\u001b[0;34m(\u001b[0m\u001b[0;34m'`bins` must be positive, when an integer'\u001b[0m\u001b[0;34m)\u001b[0m\u001b[0;34m\u001b[0m\u001b[0;34m\u001b[0m\u001b[0m\n\u001b[1;32m    418\u001b[0m \u001b[0;34m\u001b[0m\u001b[0m\n\u001b[0;32m--> 419\u001b[0;31m         \u001b[0mfirst_edge\u001b[0m\u001b[0;34m,\u001b[0m \u001b[0mlast_edge\u001b[0m \u001b[0;34m=\u001b[0m \u001b[0m_get_outer_edges\u001b[0m\u001b[0;34m(\u001b[0m\u001b[0ma\u001b[0m\u001b[0;34m,\u001b[0m \u001b[0mrange\u001b[0m\u001b[0;34m)\u001b[0m\u001b[0;34m\u001b[0m\u001b[0;34m\u001b[0m\u001b[0m\n\u001b[0m\u001b[1;32m    420\u001b[0m \u001b[0;34m\u001b[0m\u001b[0m\n\u001b[1;32m    421\u001b[0m     \u001b[0;32melif\u001b[0m \u001b[0mnp\u001b[0m\u001b[0;34m.\u001b[0m\u001b[0mndim\u001b[0m\u001b[0;34m(\u001b[0m\u001b[0mbins\u001b[0m\u001b[0;34m)\u001b[0m \u001b[0;34m==\u001b[0m \u001b[0;36m1\u001b[0m\u001b[0;34m:\u001b[0m\u001b[0;34m\u001b[0m\u001b[0;34m\u001b[0m\u001b[0m\n",
      "\u001b[0;32m~/anaconda3/envs/spec_project/lib/python3.7/site-packages/numpy/lib/histograms.py\u001b[0m in \u001b[0;36m_get_outer_edges\u001b[0;34m(a, range)\u001b[0m\n\u001b[1;32m    307\u001b[0m         \u001b[0;32mif\u001b[0m \u001b[0;32mnot\u001b[0m \u001b[0;34m(\u001b[0m\u001b[0mnp\u001b[0m\u001b[0;34m.\u001b[0m\u001b[0misfinite\u001b[0m\u001b[0;34m(\u001b[0m\u001b[0mfirst_edge\u001b[0m\u001b[0;34m)\u001b[0m \u001b[0;32mand\u001b[0m \u001b[0mnp\u001b[0m\u001b[0;34m.\u001b[0m\u001b[0misfinite\u001b[0m\u001b[0;34m(\u001b[0m\u001b[0mlast_edge\u001b[0m\u001b[0;34m)\u001b[0m\u001b[0;34m)\u001b[0m\u001b[0;34m:\u001b[0m\u001b[0;34m\u001b[0m\u001b[0;34m\u001b[0m\u001b[0m\n\u001b[1;32m    308\u001b[0m             raise ValueError(\n\u001b[0;32m--> 309\u001b[0;31m                 \"supplied range of [{}, {}] is not finite\".format(first_edge, last_edge))\n\u001b[0m\u001b[1;32m    310\u001b[0m     \u001b[0;32melif\u001b[0m \u001b[0ma\u001b[0m\u001b[0;34m.\u001b[0m\u001b[0msize\u001b[0m \u001b[0;34m==\u001b[0m \u001b[0;36m0\u001b[0m\u001b[0;34m:\u001b[0m\u001b[0;34m\u001b[0m\u001b[0;34m\u001b[0m\u001b[0m\n\u001b[1;32m    311\u001b[0m         \u001b[0;31m# handle empty arrays. Can't determine range, so use 0-1.\u001b[0m\u001b[0;34m\u001b[0m\u001b[0;34m\u001b[0m\u001b[0;34m\u001b[0m\u001b[0m\n",
      "\u001b[0;31mValueError\u001b[0m: supplied range of [-inf, 0.0] is not finite"
     ]
    },
    {
     "data": {
      "image/png": "[encoded data removed]",
      "text/plain": [
       "<Figure size 1008x504 with 1 Axes>"
      ]
     },
     "metadata": {
      "needs_background": "light"
     },
     "output_type": "display_data"
    }
   ],
   "source": [
    "plot_normalized_message_count_distribution(80, 50)"
   ]
  },
  {
   "cell_type": "code",
   "execution_count": null,
   "metadata": {},
   "outputs": [],
   "source": []
  }
 ],
 "metadata": {
  "kernelspec": {
   "display_name": "Python 3",
   "language": "python",
   "name": "python3"
  },
  "language_info": {
   "codemirror_mode": {
    "name": "ipython",
    "version": 3
   },
   "file_extension": ".py",
   "mimetype": "text/x-python",
   "name": "python",
   "nbconvert_exporter": "python",
   "pygments_lexer": "ipython3",
   "version": "3.7.4"
  }
 },
 "nbformat": 4,
 "nbformat_minor": 2
}
