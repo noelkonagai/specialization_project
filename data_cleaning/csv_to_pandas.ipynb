{
 "cells": [
  {
   "cell_type": "code",
   "execution_count": 1,
   "metadata": {},
   "outputs": [],
   "source": [
    "import pandas as pd\n",
    "import numpy as np\n",
    "import re, emoji, regex\n",
    "\n",
    "from dateutil import parser\n",
    "from sklearn.preprocessing import LabelEncoder\n",
    "from urlextract import URLExtract"
   ]
  },
  {
   "cell_type": "markdown",
   "metadata": {},
   "source": [
    "# Cleaning"
   ]
  },
  {
   "cell_type": "code",
   "execution_count": 2,
   "metadata": {},
   "outputs": [
    {
     "data": {
      "text/html": [
       "<div>\n",
       "<style scoped>\n",
       "    .dataframe tbody tr th:only-of-type {\n",
       "        vertical-align: middle;\n",
       "    }\n",
       "\n",
       "    .dataframe tbody tr th {\n",
       "        vertical-align: top;\n",
       "    }\n",
       "\n",
       "    .dataframe thead th {\n",
       "        text-align: right;\n",
       "    }\n",
       "</style>\n",
       "<table border=\"1\" class=\"dataframe\">\n",
       "  <thead>\n",
       "    <tr style=\"text-align: right;\">\n",
       "      <th></th>\n",
       "      <th>Date_Time</th>\n",
       "      <th>Author</th>\n",
       "      <th>Author_role</th>\n",
       "      <th>Message</th>\n",
       "      <th>Category</th>\n",
       "      <th>Code</th>\n",
       "      <th>Code.1</th>\n",
       "      <th>Comment</th>\n",
       "      <th>Comment.1</th>\n",
       "    </tr>\n",
       "  </thead>\n",
       "  <tbody>\n",
       "    <tr>\n",
       "      <td>0</td>\n",
       "      <td>03/01/2019, 7:13 pm</td>\n",
       "      <td>- Messages to this group are now secured with ...</td>\n",
       "      <td>NaN</td>\n",
       "      <td>NaN</td>\n",
       "      <td>NaN</td>\n",
       "      <td>NaN</td>\n",
       "      <td>NaN</td>\n",
       "      <td>NaN</td>\n",
       "      <td>NaN</td>\n",
       "    </tr>\n",
       "    <tr>\n",
       "      <td>1</td>\n",
       "      <td>03/01/2019, 7:26 pm</td>\n",
       "      <td>- +91 94484 20837:</td>\n",
       "      <td>Teacher</td>\n",
       "      <td>🙏🏼👌🏼</td>\n",
       "      <td>NaN</td>\n",
       "      <td>NaN</td>\n",
       "      <td>NaN</td>\n",
       "      <td>NaN</td>\n",
       "      <td>NaN</td>\n",
       "    </tr>\n",
       "    <tr>\n",
       "      <td>2</td>\n",
       "      <td>03/01/2019, 7:27 pm</td>\n",
       "      <td>- +91 99724 48016:</td>\n",
       "      <td>Teacher</td>\n",
       "      <td>Congratulations 💐💐💐</td>\n",
       "      <td>NaN</td>\n",
       "      <td>NaN</td>\n",
       "      <td>NaN</td>\n",
       "      <td>NaN</td>\n",
       "      <td>NaN</td>\n",
       "    </tr>\n",
       "    <tr>\n",
       "      <td>3</td>\n",
       "      <td>03/01/2019, 7:27 pm</td>\n",
       "      <td>- +91 99459 99466:</td>\n",
       "      <td>Teacher</td>\n",
       "      <td>&lt;Media omitted&gt;</td>\n",
       "      <td>NaN</td>\n",
       "      <td>NaN</td>\n",
       "      <td>NaN</td>\n",
       "      <td>NaN</td>\n",
       "      <td>NaN</td>\n",
       "    </tr>\n",
       "    <tr>\n",
       "      <td>4</td>\n",
       "      <td>03/01/2019, 7:29 pm</td>\n",
       "      <td>- Kush Desai:</td>\n",
       "      <td>Teacher</td>\n",
       "      <td>👌👌💐💐</td>\n",
       "      <td>NaN</td>\n",
       "      <td>NaN</td>\n",
       "      <td>NaN</td>\n",
       "      <td>NaN</td>\n",
       "      <td>NaN</td>\n",
       "    </tr>\n",
       "  </tbody>\n",
       "</table>\n",
       "</div>"
      ],
      "text/plain": [
       "             Date_Time                                             Author  \\\n",
       "0  03/01/2019, 7:13 pm  - Messages to this group are now secured with ...   \n",
       "1  03/01/2019, 7:26 pm                                 - +91 94484 20837:   \n",
       "2  03/01/2019, 7:27 pm                                 - +91 99724 48016:   \n",
       "3  03/01/2019, 7:27 pm                                 - +91 99459 99466:   \n",
       "4  03/01/2019, 7:29 pm                                      - Kush Desai:   \n",
       "\n",
       "  Author_role              Message Category Code Code.1 Comment  Comment.1  \n",
       "0         NaN                  NaN      NaN  NaN    NaN     NaN        NaN  \n",
       "1     Teacher                 🙏🏼👌🏼      NaN  NaN    NaN     NaN        NaN  \n",
       "2     Teacher  Congratulations 💐💐💐      NaN  NaN    NaN     NaN        NaN  \n",
       "3     Teacher      <Media omitted>      NaN  NaN    NaN     NaN        NaN  \n",
       "4     Teacher                 👌👌💐💐      NaN  NaN    NaN     NaN        NaN  "
      ]
     },
     "execution_count": 2,
     "metadata": {},
     "output_type": "execute_result"
    }
   ],
   "source": [
    "df_original = pd.read_csv(\"belgavi_teachers.csv\")\n",
    "df_original.head(5)"
   ]
  },
  {
   "cell_type": "code",
   "execution_count": 3,
   "metadata": {},
   "outputs": [],
   "source": [
    "#Execute only once to get the cleaned Dataframe\n",
    "\n",
    "df = df_original.copy()\n",
    "df = df.drop(df.index[0]) #Removes the Encryption automated message\n",
    "df = df.drop(['Comment.1'], axis = 1) #Removes empty column\n",
    "df.columns = ['date_time','sender','sender_role',\n",
    "            'message','category_type','code',\n",
    "            'code_1', 'comments']"
   ]
  },
  {
   "cell_type": "code",
   "execution_count": 4,
   "metadata": {},
   "outputs": [],
   "source": [
    "def convert_date(date_time):\n",
    "    # Converts date_time into machine readable timestamps\n",
    "    return parser.parse(date_time)\n",
    "\n",
    "def demojize(text):\n",
    "    # Removes Emojis from a given text\n",
    "    emoji_pattern = re.compile(\"[\"\n",
    "        u\"\\U0001F600-\\U0001F64F\"  # emoticons\n",
    "        u\"\\U0001F300-\\U0001F5FF\"  # symbols & pictographs\n",
    "        u\"\\U0001F680-\\U0001F6FF\"  # transport & map symbols\n",
    "        u\"\\U0001F1E0-\\U0001F1FF\"  # flags (iOS)\n",
    "                           \"]+\", flags=re.UNICODE)\n",
    "    return emoji_pattern.sub(r'', text) # no emoji\n",
    "\n",
    "def split_count(text):\n",
    "    # Creates a list of emojis from a given text\n",
    "    emoji_list = []\n",
    "    data = regex.findall(r'\\X', text)\n",
    "    \n",
    "    for word in data:\n",
    "        if any(char in emoji.UNICODE_EMOJI for char in word):\n",
    "            emoji_list.append(word)\n",
    "\n",
    "    return emoji_list\n",
    "\n",
    "def find_url(text):\n",
    "    # Creates a list of URLs found in a given text\n",
    "    extractor = URLExtract()\n",
    "    return extractor.find_urls(text)"
   ]
  },
  {
   "cell_type": "code",
   "execution_count": 5,
   "metadata": {},
   "outputs": [],
   "source": [
    "# Converts the date_time into machine readable time stamp\n",
    "df.date_time = df.date_time.apply(convert_date)"
   ]
  },
  {
   "cell_type": "code",
   "execution_count": 6,
   "metadata": {},
   "outputs": [],
   "source": [
    "# Converting senders to sender IDs\n",
    "le = LabelEncoder()\n",
    "le.fit(df['sender'])\n",
    "df['sender_id'] = le.transform(df['sender'])"
   ]
  },
  {
   "cell_type": "code",
   "execution_count": 7,
   "metadata": {},
   "outputs": [
    {
     "data": {
      "text/plain": [
       "'- +91 78994 45604:'"
      ]
     },
     "execution_count": 7,
     "metadata": {},
     "output_type": "execute_result"
    }
   ],
   "source": [
    "# Creates a dictionary of sender ids mapped to sender nums\n",
    "sender_ids = le.transform(le.classes_)\n",
    "sender_nums = le.inverse_transform(sender_ids)\n",
    "le_name_mapping = dict(zip(sender_ids, sender_nums))\n",
    "le_name_mapping[5]"
   ]
  },
  {
   "cell_type": "code",
   "execution_count": 8,
   "metadata": {},
   "outputs": [],
   "source": [
    "message_series = [] #Original messages with empty strings at group activities\n",
    "em_series = [] #List of emojis\n",
    "demojized_series = [] #Cleaned message devoid of emojis\n",
    "url_series = [] #List of URLs found in the message\n",
    "media_binary_series = [] #Binary encoding whether the message contains a media file\n",
    "\n",
    "for i in range(len(df.message)):\n",
    "    if pd.isnull(df.message.iloc[i]) == False:\n",
    "        msg = df.message.iloc[i]\n",
    "        em_list = split_count(df.message.iloc[i])\n",
    "        dmj = demojize(df.message.iloc[i])\n",
    "        url = find_url(df.message.iloc[i])\n",
    "        if df.message.iloc[i] == \"<Media omitted>\":\n",
    "            media = 1\n",
    "        else:\n",
    "            media = 0\n",
    "        \n",
    "    else:\n",
    "        msg = \"\"\n",
    "        em_list = []\n",
    "        dmj = \"\"\n",
    "        url = []\n",
    "        media = 0\n",
    "    \n",
    "    message_series.append(msg)\n",
    "    em_series.append(em_list)\n",
    "    demojized_series.append(dmj)\n",
    "    url_series.append(url)\n",
    "    media_binary_series.append(media)"
   ]
  },
  {
   "cell_type": "code",
   "execution_count": 9,
   "metadata": {},
   "outputs": [],
   "source": [
    "df['emoji'] = em_series\n",
    "df['messages_clean'] = demojized_series\n",
    "df['url'] = url_series\n",
    "df['has_media'] = media_binary_series"
   ]
  },
  {
   "cell_type": "code",
   "execution_count": 10,
   "metadata": {},
   "outputs": [
    {
     "data": {
      "text/html": [
       "<div>\n",
       "<style scoped>\n",
       "    .dataframe tbody tr th:only-of-type {\n",
       "        vertical-align: middle;\n",
       "    }\n",
       "\n",
       "    .dataframe tbody tr th {\n",
       "        vertical-align: top;\n",
       "    }\n",
       "\n",
       "    .dataframe thead th {\n",
       "        text-align: right;\n",
       "    }\n",
       "</style>\n",
       "<table border=\"1\" class=\"dataframe\">\n",
       "  <thead>\n",
       "    <tr style=\"text-align: right;\">\n",
       "      <th></th>\n",
       "      <th>date_time</th>\n",
       "      <th>sender</th>\n",
       "      <th>sender_role</th>\n",
       "      <th>message</th>\n",
       "      <th>category_type</th>\n",
       "      <th>code</th>\n",
       "      <th>code_1</th>\n",
       "      <th>comments</th>\n",
       "      <th>sender_id</th>\n",
       "      <th>emoji</th>\n",
       "      <th>messages_clean</th>\n",
       "      <th>url</th>\n",
       "      <th>has_media</th>\n",
       "    </tr>\n",
       "  </thead>\n",
       "  <tbody>\n",
       "    <tr>\n",
       "      <td>1</td>\n",
       "      <td>2019-03-01 19:26:00</td>\n",
       "      <td>- +91 94484 20837:</td>\n",
       "      <td>Teacher</td>\n",
       "      <td>🙏🏼👌🏼</td>\n",
       "      <td>NaN</td>\n",
       "      <td>NaN</td>\n",
       "      <td>NaN</td>\n",
       "      <td>NaN</td>\n",
       "      <td>42</td>\n",
       "      <td>[🙏🏼, 👌🏼]</td>\n",
       "      <td></td>\n",
       "      <td>[]</td>\n",
       "      <td>0</td>\n",
       "    </tr>\n",
       "    <tr>\n",
       "      <td>2</td>\n",
       "      <td>2019-03-01 19:27:00</td>\n",
       "      <td>- +91 99724 48016:</td>\n",
       "      <td>Teacher</td>\n",
       "      <td>Congratulations 💐💐💐</td>\n",
       "      <td>NaN</td>\n",
       "      <td>NaN</td>\n",
       "      <td>NaN</td>\n",
       "      <td>NaN</td>\n",
       "      <td>111</td>\n",
       "      <td>[💐, 💐, 💐]</td>\n",
       "      <td>Congratulations</td>\n",
       "      <td>[]</td>\n",
       "      <td>0</td>\n",
       "    </tr>\n",
       "    <tr>\n",
       "      <td>3</td>\n",
       "      <td>2019-03-01 19:27:00</td>\n",
       "      <td>- +91 99459 99466:</td>\n",
       "      <td>Teacher</td>\n",
       "      <td>&lt;Media omitted&gt;</td>\n",
       "      <td>NaN</td>\n",
       "      <td>NaN</td>\n",
       "      <td>NaN</td>\n",
       "      <td>NaN</td>\n",
       "      <td>103</td>\n",
       "      <td>[]</td>\n",
       "      <td>&lt;Media omitted&gt;</td>\n",
       "      <td>[]</td>\n",
       "      <td>1</td>\n",
       "    </tr>\n",
       "    <tr>\n",
       "      <td>4</td>\n",
       "      <td>2019-03-01 19:29:00</td>\n",
       "      <td>- Kush Desai:</td>\n",
       "      <td>Teacher</td>\n",
       "      <td>👌👌💐💐</td>\n",
       "      <td>NaN</td>\n",
       "      <td>NaN</td>\n",
       "      <td>NaN</td>\n",
       "      <td>NaN</td>\n",
       "      <td>131</td>\n",
       "      <td>[👌, 👌, 💐, 💐]</td>\n",
       "      <td></td>\n",
       "      <td>[]</td>\n",
       "      <td>0</td>\n",
       "    </tr>\n",
       "    <tr>\n",
       "      <td>5</td>\n",
       "      <td>2019-03-01 19:31:00</td>\n",
       "      <td>- +91 99721 55199:</td>\n",
       "      <td>Teacher</td>\n",
       "      <td>[Translated] May God give Madam his ideal and ...</td>\n",
       "      <td>NaN</td>\n",
       "      <td>NaN</td>\n",
       "      <td>NaN</td>\n",
       "      <td>NaN</td>\n",
       "      <td>110</td>\n",
       "      <td>[🙏🏻, 🙏🏻, 🙏🏻]</td>\n",
       "      <td>[Translated] May God give Madam his ideal and ...</td>\n",
       "      <td>[]</td>\n",
       "      <td>0</td>\n",
       "    </tr>\n",
       "  </tbody>\n",
       "</table>\n",
       "</div>"
      ],
      "text/plain": [
       "            date_time              sender sender_role  \\\n",
       "1 2019-03-01 19:26:00  - +91 94484 20837:     Teacher   \n",
       "2 2019-03-01 19:27:00  - +91 99724 48016:     Teacher   \n",
       "3 2019-03-01 19:27:00  - +91 99459 99466:     Teacher   \n",
       "4 2019-03-01 19:29:00       - Kush Desai:     Teacher   \n",
       "5 2019-03-01 19:31:00  - +91 99721 55199:     Teacher   \n",
       "\n",
       "                                             message category_type code  \\\n",
       "1                                               🙏🏼👌🏼           NaN  NaN   \n",
       "2                                Congratulations 💐💐💐           NaN  NaN   \n",
       "3                                    <Media omitted>           NaN  NaN   \n",
       "4                                               👌👌💐💐           NaN  NaN   \n",
       "5  [Translated] May God give Madam his ideal and ...           NaN  NaN   \n",
       "\n",
       "  code_1 comments  sender_id         emoji  \\\n",
       "1    NaN      NaN         42      [🙏🏼, 👌🏼]   \n",
       "2    NaN      NaN        111     [💐, 💐, 💐]   \n",
       "3    NaN      NaN        103            []   \n",
       "4    NaN      NaN        131  [👌, 👌, 💐, 💐]   \n",
       "5    NaN      NaN        110  [🙏🏻, 🙏🏻, 🙏🏻]   \n",
       "\n",
       "                                      messages_clean url  has_media  \n",
       "1                                                     []          0  \n",
       "2                                   Congratulations   []          0  \n",
       "3                                    <Media omitted>  []          1  \n",
       "4                                                     []          0  \n",
       "5  [Translated] May God give Madam his ideal and ...  []          0  "
      ]
     },
     "execution_count": 10,
     "metadata": {},
     "output_type": "execute_result"
    }
   ],
   "source": [
    "df.head(5)"
   ]
  },
  {
   "cell_type": "markdown",
   "metadata": {},
   "source": [
    "# Translation"
   ]
  },
  {
   "cell_type": "code",
   "execution_count": 11,
   "metadata": {},
   "outputs": [
    {
     "ename": "DefaultCredentialsError",
     "evalue": "Could not automatically determine credentials. Please set GOOGLE_APPLICATION_CREDENTIALS or explicitly create credentials and re-run the application. For more information, please see https://cloud.google.com/docs/authentication/getting-started",
     "output_type": "error",
     "traceback": [
      "\u001b[0;31m---------------------------------------------------------------------------\u001b[0m",
      "\u001b[0;31mDefaultCredentialsError\u001b[0m                   Traceback (most recent call last)",
      "\u001b[0;32m<ipython-input-11-a721e1abc1b1>\u001b[0m in \u001b[0;36m<module>\u001b[0;34m\u001b[0m\n\u001b[1;32m      3\u001b[0m \u001b[0;34m\u001b[0m\u001b[0m\n\u001b[1;32m      4\u001b[0m \u001b[0;31m# Instantiates a client\u001b[0m\u001b[0;34m\u001b[0m\u001b[0;34m\u001b[0m\u001b[0;34m\u001b[0m\u001b[0m\n\u001b[0;32m----> 5\u001b[0;31m \u001b[0mtranslate_client\u001b[0m \u001b[0;34m=\u001b[0m \u001b[0mtranslate\u001b[0m\u001b[0;34m.\u001b[0m\u001b[0mClient\u001b[0m\u001b[0;34m(\u001b[0m\u001b[0;34m)\u001b[0m\u001b[0;34m\u001b[0m\u001b[0;34m\u001b[0m\u001b[0m\n\u001b[0m\u001b[1;32m      6\u001b[0m \u001b[0;34m\u001b[0m\u001b[0m\n\u001b[1;32m      7\u001b[0m \u001b[0;31m# The text to translate\u001b[0m\u001b[0;34m\u001b[0m\u001b[0;34m\u001b[0m\u001b[0;34m\u001b[0m\u001b[0m\n",
      "\u001b[0;32m~/anaconda3/envs/spec_project/lib/python3.7/site-packages/google/cloud/translate_v2/client.py\u001b[0m in \u001b[0;36m__init__\u001b[0;34m(self, target_language, credentials, _http, client_info)\u001b[0m\n\u001b[1;32m     75\u001b[0m     ):\n\u001b[1;32m     76\u001b[0m         \u001b[0mself\u001b[0m\u001b[0;34m.\u001b[0m\u001b[0mtarget_language\u001b[0m \u001b[0;34m=\u001b[0m \u001b[0mtarget_language\u001b[0m\u001b[0;34m\u001b[0m\u001b[0;34m\u001b[0m\u001b[0m\n\u001b[0;32m---> 77\u001b[0;31m         \u001b[0msuper\u001b[0m\u001b[0;34m(\u001b[0m\u001b[0mClient\u001b[0m\u001b[0;34m,\u001b[0m \u001b[0mself\u001b[0m\u001b[0;34m)\u001b[0m\u001b[0;34m.\u001b[0m\u001b[0m__init__\u001b[0m\u001b[0;34m(\u001b[0m\u001b[0mcredentials\u001b[0m\u001b[0;34m=\u001b[0m\u001b[0mcredentials\u001b[0m\u001b[0;34m,\u001b[0m \u001b[0m_http\u001b[0m\u001b[0;34m=\u001b[0m\u001b[0m_http\u001b[0m\u001b[0;34m)\u001b[0m\u001b[0;34m\u001b[0m\u001b[0;34m\u001b[0m\u001b[0m\n\u001b[0m\u001b[1;32m     78\u001b[0m         \u001b[0mself\u001b[0m\u001b[0;34m.\u001b[0m\u001b[0m_connection\u001b[0m \u001b[0;34m=\u001b[0m \u001b[0mConnection\u001b[0m\u001b[0;34m(\u001b[0m\u001b[0mself\u001b[0m\u001b[0;34m,\u001b[0m \u001b[0mclient_info\u001b[0m\u001b[0;34m=\u001b[0m\u001b[0mclient_info\u001b[0m\u001b[0;34m)\u001b[0m\u001b[0;34m\u001b[0m\u001b[0;34m\u001b[0m\u001b[0m\n\u001b[1;32m     79\u001b[0m \u001b[0;34m\u001b[0m\u001b[0m\n",
      "\u001b[0;32m~/anaconda3/envs/spec_project/lib/python3.7/site-packages/google/cloud/client.py\u001b[0m in \u001b[0;36m__init__\u001b[0;34m(self, credentials, _http)\u001b[0m\n\u001b[1;32m    130\u001b[0m             \u001b[0;32mraise\u001b[0m \u001b[0mValueError\u001b[0m\u001b[0;34m(\u001b[0m\u001b[0m_GOOGLE_AUTH_CREDENTIALS_HELP\u001b[0m\u001b[0;34m)\u001b[0m\u001b[0;34m\u001b[0m\u001b[0;34m\u001b[0m\u001b[0m\n\u001b[1;32m    131\u001b[0m         \u001b[0;32mif\u001b[0m \u001b[0mcredentials\u001b[0m \u001b[0;32mis\u001b[0m \u001b[0;32mNone\u001b[0m \u001b[0;32mand\u001b[0m \u001b[0m_http\u001b[0m \u001b[0;32mis\u001b[0m \u001b[0;32mNone\u001b[0m\u001b[0;34m:\u001b[0m\u001b[0;34m\u001b[0m\u001b[0;34m\u001b[0m\u001b[0m\n\u001b[0;32m--> 132\u001b[0;31m             \u001b[0mcredentials\u001b[0m\u001b[0;34m,\u001b[0m \u001b[0m_\u001b[0m \u001b[0;34m=\u001b[0m \u001b[0mgoogle\u001b[0m\u001b[0;34m.\u001b[0m\u001b[0mauth\u001b[0m\u001b[0;34m.\u001b[0m\u001b[0mdefault\u001b[0m\u001b[0;34m(\u001b[0m\u001b[0;34m)\u001b[0m\u001b[0;34m\u001b[0m\u001b[0;34m\u001b[0m\u001b[0m\n\u001b[0m\u001b[1;32m    133\u001b[0m         self._credentials = google.auth.credentials.with_scopes_if_required(\n\u001b[1;32m    134\u001b[0m             \u001b[0mcredentials\u001b[0m\u001b[0;34m,\u001b[0m \u001b[0mself\u001b[0m\u001b[0;34m.\u001b[0m\u001b[0mSCOPE\u001b[0m\u001b[0;34m\u001b[0m\u001b[0;34m\u001b[0m\u001b[0m\n",
      "\u001b[0;32m~/anaconda3/envs/spec_project/lib/python3.7/site-packages/google/auth/_default.py\u001b[0m in \u001b[0;36mdefault\u001b[0;34m(scopes, request)\u001b[0m\n\u001b[1;32m    315\u001b[0m             \u001b[0;32mreturn\u001b[0m \u001b[0mcredentials\u001b[0m\u001b[0;34m,\u001b[0m \u001b[0meffective_project_id\u001b[0m\u001b[0;34m\u001b[0m\u001b[0;34m\u001b[0m\u001b[0m\n\u001b[1;32m    316\u001b[0m \u001b[0;34m\u001b[0m\u001b[0m\n\u001b[0;32m--> 317\u001b[0;31m     \u001b[0;32mraise\u001b[0m \u001b[0mexceptions\u001b[0m\u001b[0;34m.\u001b[0m\u001b[0mDefaultCredentialsError\u001b[0m\u001b[0;34m(\u001b[0m\u001b[0m_HELP_MESSAGE\u001b[0m\u001b[0;34m)\u001b[0m\u001b[0;34m\u001b[0m\u001b[0;34m\u001b[0m\u001b[0m\n\u001b[0m",
      "\u001b[0;31mDefaultCredentialsError\u001b[0m: Could not automatically determine credentials. Please set GOOGLE_APPLICATION_CREDENTIALS or explicitly create credentials and re-run the application. For more information, please see https://cloud.google.com/docs/authentication/getting-started"
     ]
    }
   ],
   "source": [
    "# Imports the Google Cloud client library\n",
    "from google.cloud import translate\n",
    "\n",
    "# Instantiates a client\n",
    "translate_client = translate.Client()\n",
    "\n",
    "# The text to translate\n",
    "text = u'Hello, world!'\n",
    "# The target language\n",
    "target = 'ru'\n",
    "\n",
    "# Translates some text into Russian\n",
    "translation = translate_client.translate(\n",
    "    text,\n",
    "    target_language=target)\n",
    "\n",
    "print(u'Text: {}'.format(text))\n",
    "print(u'Translation: {}'.format(translation['translatedText']))"
   ]
  },
  {
   "cell_type": "code",
   "execution_count": 14,
   "metadata": {},
   "outputs": [
    {
     "name": "stdout",
     "output_type": "stream",
     "text": [
      "Credendtials from environ: None\n"
     ]
    }
   ],
   "source": [
    "import os\n",
    "\n",
    "print('Credendtials from environ: {}'.format(\n",
    "    os.environ.get('GOOGLE_APPLICATION_CREDENTIALS')))"
   ]
  },
  {
   "cell_type": "code",
   "execution_count": 13,
   "metadata": {},
   "outputs": [],
   "source": [
    "from google.oauth2 import service_account\n",
    "\n",
    "credentials = service_account.Credentials.from_service_account_file(\n",
    "    'whatsapp-translate-824a6a72c9c3.json')\n",
    "\n",
    "scoped_credentials = credentials.with_scopes(\n",
    "    ['https://www.googleapis.com/auth/cloud-platform'])"
   ]
  },
  {
   "cell_type": "code",
   "execution_count": null,
   "metadata": {},
   "outputs": [],
   "source": []
  }
 ],
 "metadata": {
  "kernelspec": {
   "display_name": "Python 3",
   "language": "python",
   "name": "python3"
  },
  "language_info": {
   "codemirror_mode": {
    "name": "ipython",
    "version": 3
   },
   "file_extension": ".py",
   "mimetype": "text/x-python",
   "name": "python",
   "nbconvert_exporter": "python",
   "pygments_lexer": "ipython3",
   "version": "3.7.4"
  }
 },
 "nbformat": 4,
 "nbformat_minor": 2
}
